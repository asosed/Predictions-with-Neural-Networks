{
  "nbformat": 4,
  "nbformat_minor": 0,
  "metadata": {
    "colab": {
      "name": "Polynomial-Regression-Pytorch.ipynb",
      "provenance": [],
      "collapsed_sections": []
    },
    "kernelspec": {
      "name": "python3",
      "display_name": "Python 3"
    },
    "language_info": {
      "name": "python"
    }
  },
  "cells": [
    {
      "cell_type": "code",
      "metadata": {
        "id": "Q9ZyucGE8O3-"
      },
      "source": [
        "import numpy as np\n",
        "import pandas as pd\n",
        "import matplotlib.pyplot as plt"
      ],
      "execution_count": 1,
      "outputs": []
    },
    {
      "cell_type": "code",
      "metadata": {
        "id": "77SiaViK82I8"
      },
      "source": [
        "plt.style.use('seaborn')"
      ],
      "execution_count": 2,
      "outputs": []
    },
    {
      "cell_type": "code",
      "metadata": {
        "id": "l2CyQHnt3Njx"
      },
      "source": [
        "temp_celcius = np.array([0.5, 14., 15., 28., 11., 8., 3., -4., 6., 13., 21.]).reshape(-1, 1)\n",
        "temp_units = np.array([35.7, 55.9, 58.2, 81.9, 56.3, 48.9, 33.9, 21.8, 48.4, 60.4, 68.4]).reshape(-1, 1)"
      ],
      "execution_count": 3,
      "outputs": []
    },
    {
      "cell_type": "code",
      "metadata": {
        "colab": {
          "base_uri": "https://localhost:8080/",
          "height": 347
        },
        "id": "uePDTqSu8TiH",
        "outputId": "7adcad8d-4d8b-4882-b593-75dd4ca9b3e6"
      },
      "source": [
        "plt.scatter(temp_units, temp_celcius)\n",
        "plt.show()"
      ],
      "execution_count": 4,
      "outputs": [
        {
          "output_type": "display_data",
          "data": {
            "image/png": "[encoded data removed]",
            "text/plain": [
              "<Figure size 576x396 with 1 Axes>"
            ]
          },
          "metadata": {
            "tags": []
          }
        }
      ]
    },
    {
      "cell_type": "code",
      "metadata": {
        "id": "QkHEk7w98e9Z"
      },
      "source": [
        "from sklearn.model_selection import train_test_split\n",
        "from sklearn.preprocessing import StandardScaler"
      ],
      "execution_count": 5,
      "outputs": []
    },
    {
      "cell_type": "code",
      "metadata": {
        "id": "Vu51bE0Z_3dr"
      },
      "source": [
        "# Scale\n",
        "scaler_temp_units = StandardScaler()\n",
        "scaler_temp_units.fit(temp_units)\n",
        "temp_units_scaled = scaler_temp_units.transform(temp_units)\n",
        "\n",
        "scaler_temp_celcius = StandardScaler()\n",
        "scaler_temp_celcius.fit(temp_celcius)\n",
        "temp_celcius_scaled = scaler_temp_celcius.transform(temp_celcius)"
      ],
      "execution_count": 6,
      "outputs": []
    },
    {
      "cell_type": "code",
      "metadata": {
        "id": "VxoHt402_AHI"
      },
      "source": [
        "x_train, x_val, y_train, y_val = train_test_split(temp_units_scaled, \n",
        "                                                  temp_celcius_scaled, \n",
        "                                                  test_size=0.2)"
      ],
      "execution_count": 7,
      "outputs": []
    },
    {
      "cell_type": "markdown",
      "metadata": {
        "id": "pwq0a2AzDXVD"
      },
      "source": [
        "## **Pytorch**"
      ]
    },
    {
      "cell_type": "code",
      "metadata": {
        "id": "U5lAMj0XDaY6"
      },
      "source": [
        "import torch\n",
        "import torch.nn as nn\n",
        "import torch.nn.functional as F \n",
        "from torch.utils.data import DataLoader, Dataset"
      ],
      "execution_count": 8,
      "outputs": []
    },
    {
      "cell_type": "code",
      "metadata": {
        "id": "azOvfe4BDxyg"
      },
      "source": [
        "class TempDataset(Dataset):\n",
        "    def __init__(self, x, y):\n",
        "        self.x = torch.from_numpy(x).type(torch.float32)\n",
        "        self.y = torch.from_numpy(y).type(torch.float32)\n",
        "\n",
        "    def __getitem__(self, idx):\n",
        "        return self.x[idx], self.y[idx]\n",
        "\n",
        "    def __len__(self):\n",
        "        return self.x.shape[0]"
      ],
      "execution_count": 9,
      "outputs": []
    },
    {
      "cell_type": "code",
      "metadata": {
        "id": "SXHzIcuZEqIq"
      },
      "source": [
        "valset = TempDataset(x_val, y_val)\n",
        "trainset = TempDataset(x_train, y_train)"
      ],
      "execution_count": 10,
      "outputs": []
    },
    {
      "cell_type": "code",
      "metadata": {
        "id": "BR-ZqgclZuTj"
      },
      "source": [
        "datasets = { 'val': valset,\n",
        "             'train': trainset }"
      ],
      "execution_count": 12,
      "outputs": []
    },
    {
      "cell_type": "code",
      "metadata": {
        "id": "ump_YbNxHHXP"
      },
      "source": [
        "# Network architecture\n",
        "class Net(nn.Module):\n",
        "    def __init__(self):\n",
        "        super(Net, self).__init__()\n",
        "\n",
        "        self.fc1 = nn.Linear(1, 13)\n",
        "        self.fc2 = nn.Linear(13, 1)\n",
        "\n",
        "    def forward(self, x):\n",
        "        x = torch.tanh(self.fc1(x))\n",
        "        x = self.fc2(x)\n",
        "\n",
        "        return x"
      ],
      "execution_count": 13,
      "outputs": []
    },
    {
      "cell_type": "code",
      "metadata": {
        "id": "UI6sTZtwKaMj"
      },
      "source": [
        "class RunningMetric():\n",
        "    def __init__(self):\n",
        "        self.S = 0\n",
        "        self.N = 0\n",
        "\n",
        "    def update(self, val, size):\n",
        "        self.S += val\n",
        "        self.N += size\n",
        "\n",
        "    def __call__(self):\n",
        "        return self.S / float(self.N)"
      ],
      "execution_count": 14,
      "outputs": []
    },
    {
      "cell_type": "code",
      "metadata": {
        "id": "CdlhN7rp10cL"
      },
      "source": [
        "import time\n",
        "from IPython.display import clear_output"
      ],
      "execution_count": 15,
      "outputs": []
    },
    {
      "cell_type": "code",
      "metadata": {
        "id": "ZJpttGWUH5g1"
      },
      "source": [
        "model = Net()\n",
        "optimizer = torch.optim.SGD(model.parameters(), lr=1e-3)\n",
        "loss_fn = nn.MSELoss()"
      ],
      "execution_count": 16,
      "outputs": []
    },
    {
      "cell_type": "code",
      "metadata": {
        "id": "W5mUT8ZVYL1c"
      },
      "source": [
        "def train_and_evaluate(model, optimizer, loss_fn, datasets, num_epoch=10, lr=0.001):\n",
        "\n",
        "    losses_train = []\n",
        "    losses_val = []\n",
        "\n",
        "    for g in optimizer.param_groups:\n",
        "        g['lr'] = lr\n",
        "\n",
        "    for epoch in range(num_epoch):\n",
        "        running_loss_train = RunningMetric()\n",
        "        running_loss_val = RunningMetric()\n",
        "\n",
        "        for phase in ['train', 'val']:\n",
        "            for inputs, targets in datasets[f'{phase}']:\n",
        "                optimizer.zero_grad()\n",
        "\n",
        "                with torch.set_grad_enabled(phase == 'train'):\n",
        "                    outputs = model(inputs)\n",
        "                    loss = loss_fn(outputs, targets)\n",
        "\n",
        "                    batch_size = inputs.size()[0]\n",
        "\n",
        "                    if phase == 'train':\n",
        "                        loss.backward()\n",
        "                        optimizer.step()\n",
        "\n",
        "                        running_loss_train.update(loss.item() * batch_size, batch_size)\n",
        "                    \n",
        "                    else:\n",
        "                        running_loss_val.update(loss.item() * batch_size, batch_size)\n",
        "\n",
        "        # Plot\n",
        "        if epoch % 50 == 0:\n",
        "            losses_train.append( running_loss_train() )\n",
        "            losses_val.append( running_loss_val() )\n",
        "            \n",
        "            plt.plot(range(len(losses_train)), losses_train, color='purple')\n",
        "            plt.plot(range(len(losses_val)), losses_val)\n",
        "            plt.show()\n",
        "\n",
        "            print('Loss train: {}  Loss val: {}'.format(running_loss_train(), \n",
        "                                                        running_loss_val() ))\n",
        "\n",
        "            clear_output(wait=True)\n",
        "            time.sleep(0.5)\n"
      ],
      "execution_count": 17,
      "outputs": []
    },
    {
      "cell_type": "code",
      "metadata": {
        "id": "ZTbXnj1Me3Ee",
        "colab": {
          "base_uri": "https://localhost:8080/",
          "height": 364
        },
        "outputId": "b5720aa1-1ce5-46a3-e91b-77f574c2961f"
      },
      "source": [
        "train_and_evaluate(model, optimizer, loss_fn, datasets, num_epoch=5000)"
      ],
      "execution_count": 18,
      "outputs": [
        {
          "output_type": "display_data",
          "data": {
            "image/png": "[encoded data removed]",
            "text/plain": [
              "<Figure size 576x396 with 1 Axes>"
            ]
          },
          "metadata": {
            "tags": []
          }
        },
        {
          "output_type": "stream",
          "text": [
            "Loss train: 0.01840001344680786  Loss val: 0.0602165125310421\n"
          ],
          "name": "stdout"
        }
      ]
    },
    {
      "cell_type": "code",
      "metadata": {
        "id": "JR1xsCbfPHI6"
      },
      "source": [
        "temp_range = scaler_temp_units.transform(np.arange(20., 90.).reshape(-1, 1))\n",
        "\n",
        "# Rescale inputs\n",
        "_temp_range = torch.from_numpy(temp_range).type(torch.float32)\n",
        "model_range = model(_temp_range).detach().numpy()\n",
        "\n",
        "_temp_units_scaled = torch.from_numpy(temp_units_scaled).type(torch.float32)\n",
        "model_celcius = model(_temp_units_scaled).detach().numpy()\n",
        "\n",
        "# Rescale predicts\n",
        "model_range = scaler_temp_celcius.inverse_transform(model_range)\n",
        "model_celcius = scaler_temp_celcius.inverse_transform(model_celcius)"
      ],
      "execution_count": 21,
      "outputs": []
    },
    {
      "cell_type": "code",
      "metadata": {
        "colab": {
          "base_uri": "https://localhost:8080/",
          "height": 361
        },
        "id": "eK58-GdqMoI-",
        "outputId": "086e4fb4-e29b-4d57-a63e-087c24e3a5f1"
      },
      "source": [
        "plt.xlabel('Fahrenheit')\n",
        "plt.ylabel('Celcius')\n",
        "\n",
        "plt.plot(temp_units, temp_celcius, 'o')\n",
        "plt.plot(scaler_temp_units.inverse_transform(temp_range), model_range, 'c-', color='purple')\n",
        "# plt.plot(temp_units, model_celcius, 'kx', color='red')\n",
        "plt.show()\n"
      ],
      "execution_count": 22,
      "outputs": [
        {
          "output_type": "display_data",
          "data": {
            "image/png": "[encoded data removed]",
            "text/plain": [
              "<Figure size 576x396 with 1 Axes>"
            ]
          },
          "metadata": {
            "tags": []
          }
        }
      ]
    }
  ]
}