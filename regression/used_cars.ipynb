{
  "nbformat": 4,
  "nbformat_minor": 0,
  "metadata": {
    "colab": {
      "name": "Cars-Kaggle",
      "provenance": [],
      "collapsed_sections": []
    },
    "kernelspec": {
      "name": "python3",
      "display_name": "Python 3"
    },
    "language_info": {
      "name": "python"
    },
    "accelerator": "GPU"
  },
  "cells": [
    {
      "cell_type": "code",
      "metadata": {
        "id": "bpUZx3H7kuMS"
      },
      "source": [
        "import numpy as np\n",
        "import pandas as pd\n",
        "import matplotlib.pyplot as plt\n",
        "\n",
        "plt.style.use('seaborn')"
      ],
      "execution_count": 2,
      "outputs": []
    },
    {
      "cell_type": "code",
      "metadata": {
        "colab": {
          "base_uri": "https://localhost:8080/"
        },
        "id": "dmU9zWAXlK2B",
        "outputId": "16f83136-b938-4b49-c687-842cb42226b7"
      },
      "source": [
        "cars = pd.read_csv('data/processed/used_cars.csv')\n",
        "cars.head(), cars.shape"
      ],
      "execution_count": 4,
      "outputs": [
        {
          "output_type": "execute_result",
          "data": {
            "text/plain": [
              "(   Unnamed: 0  year  price  acura  ...  red  silver  white  yellow\n",
              " 0           0  2009   9000      0  ...    0       0      1       0\n",
              " 1           1  2002   6000      0  ...    0       0      1       0\n",
              " 2           2  2007   7000      0  ...    1       0      0       0\n",
              " 3           3  2012  37000      0  ...    0       1      0       0\n",
              " 4           4  2003   3700      0  ...    0       1      0       0\n",
              " \n",
              " [5 rows x 101 columns], (434542, 101))"
            ]
          },
          "metadata": {
            "tags": []
          },
          "execution_count": 4
        }
      ]
    },
    {
      "cell_type": "code",
      "metadata": {
        "id": "ulUB3abUlP2y"
      },
      "source": [
        "target = cars['price'].to_numpy().reshape(-1, 1)\n",
        "data = cars.drop(['price'], axis=1).to_numpy()"
      ],
      "execution_count": 5,
      "outputs": []
    },
    {
      "cell_type": "code",
      "metadata": {
        "id": "JmXkK8geoWaX"
      },
      "source": [
        "from sklearn.preprocessing import StandardScaler\n",
        "\n",
        "# Scale for x\n",
        "scaler_data = StandardScaler()\n",
        "data_scaled = scaler_data.fit_transform(data)\n",
        "\n",
        "# Scale for y \n",
        "scaler_target = StandardScaler()\n",
        "target_scaled = scaler_target.fit_transform(target)"
      ],
      "execution_count": 6,
      "outputs": []
    },
    {
      "cell_type": "code",
      "metadata": {
        "id": "7aYAZ0SFlrYR"
      },
      "source": [
        "from sklearn.model_selection import train_test_split\n",
        "\n",
        "x_train, x_val, y_train, y_val = train_test_split(data_scaled,\n",
        "                                                  target_scaled, test_size=0.20)"
      ],
      "execution_count": 7,
      "outputs": []
    },
    {
      "cell_type": "markdown",
      "metadata": {
        "id": "tNw8hqQ5qel3"
      },
      "source": [
        "## **Pytorch**"
      ]
    },
    {
      "cell_type": "code",
      "metadata": {
        "id": "GFE2snzsqSxN"
      },
      "source": [
        "import torch \n",
        "import torch.nn as nn\n",
        "import torch.nn.functional as F\n",
        "from torch.utils.data import DataLoader, Dataset"
      ],
      "execution_count": 8,
      "outputs": []
    },
    {
      "cell_type": "code",
      "metadata": {
        "id": "nsdzVva4qweO"
      },
      "source": [
        "device = torch.device('cuda')"
      ],
      "execution_count": 9,
      "outputs": []
    },
    {
      "cell_type": "code",
      "metadata": {
        "id": "jKdFnwzrrDlt"
      },
      "source": [
        "class Net(nn.Module):\n",
        "    def __init__(self):\n",
        "        super(Net, self).__init__()\n",
        "\n",
        "        self.fc1 = nn.Linear(99, 256)\n",
        "        self.fc2 = nn.Linear(256, 128)\n",
        "        self.fc3 = nn.Linear(128, 128)\n",
        "        self.fc4 = nn.Linear(128, 1)\n",
        "\n",
        "    def forward(self, x):\n",
        "        x = F.relu(self.fc1(x))\n",
        "        x = F.relu(self.fc2(x))\n",
        "        x = F.relu(self.fc3(x))\n",
        "        x = F.dropout(x, p=0.2, training=True)\n",
        "        x = self.fc4(x)\n",
        "\n",
        "        return x"
      ],
      "execution_count": 10,
      "outputs": []
    },
    {
      "cell_type": "code",
      "metadata": {
        "id": "wXoG-lH6sRWQ"
      },
      "source": [
        "class dataset(Dataset):\n",
        "    def __init__(self, x, y):\n",
        "        self.x = torch.tensor(x).type(torch.float32)\n",
        "        self.y = torch.tensor(y).type(torch.float32)\n",
        "\n",
        "    def __getitem__(self, idx):\n",
        "        return self.x[idx], self.y[idx]\n",
        "\n",
        "    def __len__(self):\n",
        "        return self.x.shape[0]"
      ],
      "execution_count": 11,
      "outputs": []
    },
    {
      "cell_type": "code",
      "metadata": {
        "id": "8a7I2rG7u8-F"
      },
      "source": [
        "trainset = dataset(x_train, y_train)\n",
        "trainloader = DataLoader(trainset, batch_size=1024)"
      ],
      "execution_count": 12,
      "outputs": []
    },
    {
      "cell_type": "code",
      "metadata": {
        "id": "AAqdGgNpWh1B"
      },
      "source": [
        "valset = dataset(x_val, y_val)\n",
        "valloader = DataLoader(valset, batch_size=1024)"
      ],
      "execution_count": 13,
      "outputs": []
    },
    {
      "cell_type": "code",
      "metadata": {
        "id": "XNrqcnIxXgNY"
      },
      "source": [
        "dataloaders = {\n",
        "    'val' : valloader,\n",
        "    'train': trainloader\n",
        "}"
      ],
      "execution_count": 14,
      "outputs": []
    },
    {
      "cell_type": "code",
      "metadata": {
        "id": "FsaHvutgX9Ql"
      },
      "source": [
        "class RunningMetrics():\n",
        "    def __init__(self):\n",
        "        self.S = 0\n",
        "        self.N = 0 \n",
        "\n",
        "    def update(self, val, size):\n",
        "        self.S += val \n",
        "        self.N += size\n",
        "\n",
        "    def __call__(self):\n",
        "        return self.S / float(self.N)"
      ],
      "execution_count": 15,
      "outputs": []
    },
    {
      "cell_type": "code",
      "metadata": {
        "id": "2Z7iQi3wYkeA"
      },
      "source": [
        "def train_and_val(model, optimizer, loss_fn, dataloaders, num_epochs=100):\n",
        "    losses_train = []\n",
        "    losses_val = []\n",
        "\n",
        "    for epoch in range(num_epochs):\n",
        "        print('Epoch {}/{}'.format(epoch+1, num_epochs))\n",
        "        \n",
        "        for phase in ['train', 'val']:\n",
        "            if phase == 'train':\n",
        "                model.train()\n",
        "            else:\n",
        "                model.eval()\n",
        "\n",
        "            running_loss = RunningMetrics()\n",
        "\n",
        "            for inputs, targets in dataloaders[phase]:\n",
        "                optimizer.zero_grad()\n",
        "                inputs, targets = inputs.to(device), targets.to(device)\n",
        "\n",
        "                with torch.set_grad_enabled(phase == 'train'):\n",
        "                    outputs = model(inputs)\n",
        "                    loss = loss_fn(outputs, targets)\n",
        "\n",
        "                    if phase == 'train':\n",
        "                        loss.backward()\n",
        "                        optimizer.step()\n",
        "\n",
        "                # Update metrics\n",
        "                epoch_size = outputs.shape[0]\n",
        "                running_loss.update(loss.item() * epoch_size, epoch_size)\n",
        "                \n",
        "            print('{}: Loss {}'.format(phase.capitalize(), running_loss()))\n",
        "            \n",
        "            if phase == 'train':\n",
        "                losses_train.append(running_loss())\n",
        "            else:\n",
        "                losses_val.append(running_loss())\n",
        "\n",
        "        print('*' * 50)\n",
        "\n",
        "    # Plot losses             \n",
        "    plt.plot(range(len(losses_train)), losses_train, color='purple', label='train')\n",
        "    plt.plot(range(len(losses_val)), losses_val, label='validation')\n",
        "    plt.legend()\n",
        "    plt.show()"
      ],
      "execution_count": 16,
      "outputs": []
    },
    {
      "cell_type": "code",
      "metadata": {
        "id": "Ew790CbHwdy7"
      },
      "source": [
        "model = Net().to(device)\n",
        "optimizer = torch.optim.Adam(model.parameters(), lr=0.001)\n",
        "loss_fn = nn.MSELoss()"
      ],
      "execution_count": 17,
      "outputs": []
    },
    {
      "cell_type": "code",
      "metadata": {
        "id": "lM6z4SgiyK4s",
        "colab": {
          "base_uri": "https://localhost:8080/",
          "height": 1000
        },
        "outputId": "cfe1c027-fd65-457e-efde-2a5933905e05"
      },
      "source": [
        "train_and_val(model, optimizer, loss_fn, dataloaders, num_epochs=40)"
      ],
      "execution_count": 18,
      "outputs": [
        {
          "output_type": "stream",
          "text": [
            "Epoch 1/40\n",
            "Train: Loss 0.5302238371788435\n",
            "Val: Loss 0.4672623812578961\n",
            "**************************************************\n",
            "Epoch 2/40\n",
            "Train: Loss 0.45722988831121897\n",
            "Val: Loss 0.4515941771079652\n",
            "**************************************************\n",
            "Epoch 3/40\n",
            "Train: Loss 0.44312887978494514\n",
            "Val: Loss 0.4406538320532916\n",
            "**************************************************\n",
            "Epoch 4/40\n",
            "Train: Loss 0.4309554236002382\n",
            "Val: Loss 0.4345436659962778\n",
            "**************************************************\n",
            "Epoch 5/40\n",
            "Train: Loss 0.421382912557935\n",
            "Val: Loss 0.42708539668925455\n",
            "**************************************************\n",
            "Epoch 6/40\n",
            "Train: Loss 0.4130458647554914\n",
            "Val: Loss 0.4234181150289431\n",
            "**************************************************\n",
            "Epoch 7/40\n",
            "Train: Loss 0.40545083748025934\n",
            "Val: Loss 0.41970834621815634\n",
            "**************************************************\n",
            "Epoch 8/40\n",
            "Train: Loss 0.3989357311513941\n",
            "Val: Loss 0.4158795982097575\n",
            "**************************************************\n",
            "Epoch 9/40\n",
            "Train: Loss 0.39277047399132947\n",
            "Val: Loss 0.41304199087586724\n",
            "**************************************************\n",
            "Epoch 10/40\n",
            "Train: Loss 0.3874285852921982\n",
            "Val: Loss 0.41133298550115005\n",
            "**************************************************\n",
            "Epoch 11/40\n",
            "Train: Loss 0.38223113032556993\n",
            "Val: Loss 0.40815182225610563\n",
            "**************************************************\n",
            "Epoch 12/40\n",
            "Train: Loss 0.3776406663459075\n",
            "Val: Loss 0.4068586917433313\n",
            "**************************************************\n",
            "Epoch 13/40\n",
            "Train: Loss 0.37369727399930025\n",
            "Val: Loss 0.40526918764472875\n",
            "**************************************************\n",
            "Epoch 14/40\n",
            "Train: Loss 0.3698470710874609\n",
            "Val: Loss 0.40306371262884466\n",
            "**************************************************\n",
            "Epoch 15/40\n",
            "Train: Loss 0.3657620053205859\n",
            "Val: Loss 0.4026029408691319\n",
            "**************************************************\n",
            "Epoch 16/40\n",
            "Train: Loss 0.3623442969754644\n",
            "Val: Loss 0.40094061130851005\n",
            "**************************************************\n",
            "Epoch 17/40\n",
            "Train: Loss 0.3592427300918135\n",
            "Val: Loss 0.4005536389379833\n",
            "**************************************************\n",
            "Epoch 18/40\n",
            "Train: Loss 0.35636709713942505\n",
            "Val: Loss 0.4004372067239501\n",
            "**************************************************\n",
            "Epoch 19/40\n",
            "Train: Loss 0.35283783298003507\n",
            "Val: Loss 0.3985338699688173\n",
            "**************************************************\n",
            "Epoch 20/40\n",
            "Train: Loss 0.3502791578211182\n",
            "Val: Loss 0.3995121577852669\n",
            "**************************************************\n",
            "Epoch 21/40\n",
            "Train: Loss 0.3475870606685679\n",
            "Val: Loss 0.39745691167051683\n",
            "**************************************************\n",
            "Epoch 22/40\n",
            "Train: Loss 0.344747952943142\n",
            "Val: Loss 0.399261169635625\n",
            "**************************************************\n",
            "Epoch 23/40\n",
            "Train: Loss 0.34260275513233357\n",
            "Val: Loss 0.39856670526740595\n",
            "**************************************************\n",
            "Epoch 24/40\n",
            "Train: Loss 0.3398077707719392\n",
            "Val: Loss 0.4000335768866319\n",
            "**************************************************\n",
            "Epoch 25/40\n",
            "Train: Loss 0.3381956205916181\n",
            "Val: Loss 0.39920515628711667\n",
            "**************************************************\n",
            "Epoch 26/40\n",
            "Train: Loss 0.33543798256599316\n",
            "Val: Loss 0.399155264886484\n",
            "**************************************************\n",
            "Epoch 27/40\n",
            "Train: Loss 0.33435779356692574\n",
            "Val: Loss 0.3989078439488796\n",
            "**************************************************\n",
            "Epoch 28/40\n",
            "Train: Loss 0.3330654437120798\n",
            "Val: Loss 0.39636265321682856\n",
            "**************************************************\n",
            "Epoch 29/40\n",
            "Train: Loss 0.33321359791252425\n",
            "Val: Loss 0.398361658384803\n",
            "**************************************************\n",
            "Epoch 30/40\n",
            "Train: Loss 0.3358496257822067\n",
            "Val: Loss 0.39800535117749053\n",
            "**************************************************\n",
            "Epoch 31/40\n",
            "Train: Loss 0.32870877147861427\n",
            "Val: Loss 0.3958621555271813\n",
            "**************************************************\n",
            "Epoch 32/40\n",
            "Train: Loss 0.3264926118441649\n",
            "Val: Loss 0.3942686965589982\n",
            "**************************************************\n",
            "Epoch 33/40\n",
            "Train: Loss 0.32384086906705395\n",
            "Val: Loss 0.39583343231469104\n",
            "**************************************************\n",
            "Epoch 34/40\n",
            "Train: Loss 0.322744115944096\n",
            "Val: Loss 0.3939952432898734\n",
            "**************************************************\n",
            "Epoch 35/40\n",
            "Train: Loss 0.3217715067033475\n",
            "Val: Loss 0.3929392899313383\n",
            "**************************************************\n",
            "Epoch 36/40\n",
            "Train: Loss 0.32023672761414684\n",
            "Val: Loss 0.3923362129000745\n",
            "**************************************************\n",
            "Epoch 37/40\n",
            "Train: Loss 0.31859265061965847\n",
            "Val: Loss 0.3933617938061938\n",
            "**************************************************\n",
            "Epoch 38/40\n",
            "Train: Loss 0.3175940211722083\n",
            "Val: Loss 0.39240541499924253\n",
            "**************************************************\n",
            "Epoch 39/40\n",
            "Train: Loss 0.31613028675738436\n",
            "Val: Loss 0.39157625630796783\n",
            "**************************************************\n",
            "Epoch 40/40\n",
            "Train: Loss 0.31446083747304965\n",
            "Val: Loss 0.3908817703011826\n",
            "**************************************************\n"
          ],
          "name": "stdout"
        },
        {
          "output_type": "display_data",
          "data": {
            "image/png": "[encoded data removed]",
            "text/plain": [
              "<Figure size 576x396 with 1 Axes>"
            ]
          },
          "metadata": {
            "tags": []
          }
        }
      ]
    },
    {
      "cell_type": "code",
      "metadata": {
        "id": "xR5C9v9DjdWV"
      },
      "source": [
        "torch.save(model, 'prediction_prices.pt')"
      ],
      "execution_count": 24,
      "outputs": []
    }
  ]
}