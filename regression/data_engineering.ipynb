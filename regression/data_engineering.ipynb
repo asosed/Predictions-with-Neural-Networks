{
  "nbformat": 4,
  "nbformat_minor": 0,
  "metadata": {
    "colab": {
      "name": "Used-Cars-Kaggle.ipynb",
      "provenance": []
    },
    "kernelspec": {
      "name": "python392jvsc74a57bd0c3d5184c4b66895d208219d4d00a40650490df6cf3ed6a79c25046b559a288c9",
      "display_name": "Python 3.9.2 64-bit ('kaggle': conda)"
    },
    "language_info": {
      "name": "python",
      "version": "3.9.2"
    }
  },
  "cells": [
    {
      "cell_type": "code",
      "metadata": {
        "id": "Yr79N_ZfcWjO"
      },
      "source": [
        "import pandas as pd"
      ],
      "execution_count": 1,
      "outputs": []
    },
    {
      "cell_type": "code",
      "metadata": {
        "colab": {
          "base_uri": "https://localhost:8080/",
          "height": 204
        },
        "id": "0IJFSPR3cfrX",
        "outputId": "5439af3c-eb02-4930-ee63-035388870b2d"
      },
      "source": [
        "cars = pd.read_csv('data/raw/used_cars.csv')\n",
        "cars.head()"
      ],
      "execution_count": 2,
      "outputs": [
        {
          "output_type": "execute_result",
          "data": {
            "text/plain": [
              "   year manufacturer  condition    cylinders    fuel title_status  \\\n",
              "0  2009    chevrolet       good  8 cylinders     gas        clean   \n",
              "1  2002          gmc       good  8 cylinders     gas        clean   \n",
              "2  2007      pontiac  excellent  4 cylinders     gas        clean   \n",
              "3  2012    chevrolet  excellent  8 cylinders  diesel        clean   \n",
              "4  2003          NaN       fair  8 cylinders     gas        clean   \n",
              "\n",
              "  transmission drive       size         type paint_color  price  \n",
              "0    automatic   rwd  full-size          SUV       white   9000  \n",
              "1    automatic   4wd        NaN       pickup       white   6000  \n",
              "2    automatic   fwd    compact  convertible         red   7000  \n",
              "3    automatic   4wd  full-size       pickup      silver  37000  \n",
              "4    automatic   4wd        NaN       pickup      silver   3700  "
            ],
            "text/html": "<div>\n<style scoped>\n    .dataframe tbody tr th:only-of-type {\n        vertical-align: middle;\n    }\n\n    .dataframe tbody tr th {\n        vertical-align: top;\n    }\n\n    .dataframe thead th {\n        text-align: right;\n    }\n</style>\n<table border=\"1\" class=\"dataframe\">\n  <thead>\n    <tr style=\"text-align: right;\">\n      <th></th>\n      <th>year</th>\n      <th>manufacturer</th>\n      <th>condition</th>\n      <th>cylinders</th>\n      <th>fuel</th>\n      <th>title_status</th>\n      <th>transmission</th>\n      <th>drive</th>\n      <th>size</th>\n      <th>type</th>\n      <th>paint_color</th>\n      <th>price</th>\n    </tr>\n  </thead>\n  <tbody>\n    <tr>\n      <th>0</th>\n      <td>2009</td>\n      <td>chevrolet</td>\n      <td>good</td>\n      <td>8 cylinders</td>\n      <td>gas</td>\n      <td>clean</td>\n      <td>automatic</td>\n      <td>rwd</td>\n      <td>full-size</td>\n      <td>SUV</td>\n      <td>white</td>\n      <td>9000</td>\n    </tr>\n    <tr>\n      <th>1</th>\n      <td>2002</td>\n      <td>gmc</td>\n      <td>good</td>\n      <td>8 cylinders</td>\n      <td>gas</td>\n      <td>clean</td>\n      <td>automatic</td>\n      <td>4wd</td>\n      <td>NaN</td>\n      <td>pickup</td>\n      <td>white</td>\n      <td>6000</td>\n    </tr>\n    <tr>\n      <th>2</th>\n      <td>2007</td>\n      <td>pontiac</td>\n      <td>excellent</td>\n      <td>4 cylinders</td>\n      <td>gas</td>\n      <td>clean</td>\n      <td>automatic</td>\n      <td>fwd</td>\n      <td>compact</td>\n      <td>convertible</td>\n      <td>red</td>\n      <td>7000</td>\n    </tr>\n    <tr>\n      <th>3</th>\n      <td>2012</td>\n      <td>chevrolet</td>\n      <td>excellent</td>\n      <td>8 cylinders</td>\n      <td>diesel</td>\n      <td>clean</td>\n      <td>automatic</td>\n      <td>4wd</td>\n      <td>full-size</td>\n      <td>pickup</td>\n      <td>silver</td>\n      <td>37000</td>\n    </tr>\n    <tr>\n      <th>4</th>\n      <td>2003</td>\n      <td>NaN</td>\n      <td>fair</td>\n      <td>8 cylinders</td>\n      <td>gas</td>\n      <td>clean</td>\n      <td>automatic</td>\n      <td>4wd</td>\n      <td>NaN</td>\n      <td>pickup</td>\n      <td>silver</td>\n      <td>3700</td>\n    </tr>\n  </tbody>\n</table>\n</div>"
          },
          "metadata": {},
          "execution_count": 2
        }
      ]
    },
    {
      "cell_type": "markdown",
      "metadata": {
        "id": "PYA6V4apd1_5"
      },
      "source": [
        "### **Fill na values**"
      ]
    },
    {
      "cell_type": "code",
      "metadata": {
        "colab": {
          "base_uri": "https://localhost:8080/"
        },
        "id": "kKRUwe18cobC",
        "outputId": "33b4e851-9a93-49bc-af9b-23b27aaae8c3"
      },
      "source": [
        "# Percent values\n",
        "cars.isna().sum() / len(cars)"
      ],
      "execution_count": 3,
      "outputs": [
        {
          "output_type": "execute_result",
          "data": {
            "text/plain": [
              "year            0.000000\n",
              "manufacturer    0.036461\n",
              "condition       0.368606\n",
              "cylinders       0.283064\n",
              "fuel            0.008395\n",
              "title_status    0.006630\n",
              "transmission    0.009891\n",
              "drive           0.132802\n",
              "size            0.581336\n",
              "type            0.115667\n",
              "paint_color     0.197346\n",
              "price           0.000000\n",
              "dtype: float64"
            ]
          },
          "metadata": {},
          "execution_count": 3
        }
      ]
    },
    {
      "cell_type": "code",
      "metadata": {
        "id": "duyBu-HOcxrn"
      },
      "source": [
        "# Fill na with mode\n",
        "for column in cars.columns:\n",
        "    if cars[column].isna().sum() / len(cars) < 0.10:\n",
        "        cars[column] = cars[column].fillna(cars[column].mode()[0])"
      ],
      "execution_count": 4,
      "outputs": []
    },
    {
      "cell_type": "code",
      "metadata": {
        "colab": {
          "base_uri": "https://localhost:8080/"
        },
        "id": "nfdtaK4-defD",
        "outputId": "53a33732-0f45-45df-eb64-d3ea6a0b1267"
      },
      "source": [
        "# Percent values\n",
        "cars.isna().sum() / len(cars), len(cars)"
      ],
      "execution_count": 5,
      "outputs": [
        {
          "output_type": "execute_result",
          "data": {
            "text/plain": [
              "(year            0.000000\n",
              " manufacturer    0.000000\n",
              " condition       0.368606\n",
              " cylinders       0.283064\n",
              " fuel            0.000000\n",
              " title_status    0.000000\n",
              " transmission    0.000000\n",
              " drive           0.132802\n",
              " size            0.581336\n",
              " type            0.115667\n",
              " paint_color     0.197346\n",
              " price           0.000000\n",
              " dtype: float64,\n",
              " 434542)"
            ]
          },
          "metadata": {},
          "execution_count": 5
        }
      ]
    },
    {
      "cell_type": "markdown",
      "metadata": {
        "id": "TB33BkLxeLS3"
      },
      "source": [
        "## **One Hot Encoding**"
      ]
    },
    {
      "cell_type": "code",
      "metadata": {
        "colab": {
          "base_uri": "https://localhost:8080/"
        },
        "id": "74Sur4zMeQRD",
        "outputId": "05ea3747-9d4d-476a-974e-48e63738c4b0"
      },
      "source": [
        "# Data type\n",
        "cars.dtypes"
      ],
      "execution_count": 6,
      "outputs": [
        {
          "output_type": "execute_result",
          "data": {
            "text/plain": [
              "year             int64\n",
              "manufacturer    object\n",
              "condition       object\n",
              "cylinders       object\n",
              "fuel            object\n",
              "title_status    object\n",
              "transmission    object\n",
              "drive           object\n",
              "size            object\n",
              "type            object\n",
              "paint_color     object\n",
              "price            int64\n",
              "dtype: object"
            ]
          },
          "metadata": {},
          "execution_count": 6
        }
      ]
    },
    {
      "cell_type": "code",
      "metadata": {
        "colab": {
          "base_uri": "https://localhost:8080/"
        },
        "id": "DIWuTlOIeZIg",
        "outputId": "9cf52725-3604-4023-9969-a2e6f099112c"
      },
      "source": [
        "for column in cars.columns:\n",
        "    if cars[column].dtype != 'int64':\n",
        "        print(f'{column}')\n",
        "        print(f'{cars[column].unique()}')"
      ],
      "execution_count": 7,
      "outputs": [
        {
          "output_type": "stream",
          "name": "stdout",
          "text": [
            "manufacturer\n",
            "['chevrolet' 'gmc' 'pontiac' 'ford' 'toyota' 'ram' 'jeep' 'cadillac'\n",
            " 'honda' 'nissan' 'volkswagen' 'bmw' 'buick' 'chrysler' 'mini' 'mazda'\n",
            " 'mercury' 'kia' 'hyundai' 'mitsubishi' 'infiniti' 'lexus' 'subaru'\n",
            " 'lincoln' 'dodge' 'acura' 'saturn' 'audi' 'mercedes-benz' 'volvo'\n",
            " 'jaguar' 'rover' 'fiat' 'porche' 'alfa-romeo' 'harley-davidson'\n",
            " 'land rover' 'aston-martin' 'datsun' 'morgan' 'hennessey' 'ferrari']\n",
            "condition\n",
            "['good' 'excellent' 'fair' nan 'like new' 'salvage' 'new']\n",
            "cylinders\n",
            "['8 cylinders' '4 cylinders' '6 cylinders' '3 cylinders' nan\n",
            " '10 cylinders' 'other' '5 cylinders' '12 cylinders']\n",
            "fuel\n",
            "['gas' 'diesel' 'hybrid' 'electric' 'other']\n",
            "title_status\n",
            "['clean' 'missing' 'lien' 'rebuilt' 'salvage' 'parts only']\n",
            "transmission\n",
            "['automatic' 'manual' 'other']\n",
            "drive\n",
            "['rwd' '4wd' 'fwd' nan]\n",
            "size\n",
            "['full-size' nan 'compact' 'mid-size' 'sub-compact']\n",
            "type\n",
            "['SUV' 'pickup' 'convertible' 'truck' 'sedan' nan 'coupe' 'van'\n",
            " 'hatchback' 'other' 'wagon' 'mini-van' 'offroad' 'bus']\n",
            "paint_color\n",
            "['white' 'red' 'silver' 'black' 'brown' nan 'green' 'blue' 'grey' 'yellow'\n",
            " 'custom' 'orange' 'purple']\n"
          ]
        }
      ]
    },
    {
      "cell_type": "code",
      "metadata": {
        "id": "ZD3_3KYresrO"
      },
      "source": [
        "for column in cars.columns:\n",
        "    if cars[column].dtype != 'int64':\n",
        "        one_hot = pd.get_dummies(cars[column])\n",
        "        cars.drop(column, axis=1, inplace=True)\n",
        "        cars = pd.concat([cars, one_hot], axis=1)"
      ],
      "execution_count": 8,
      "outputs": []
    },
    {
      "cell_type": "code",
      "metadata": {
        "id": "Bu8tKPDHhuZ5"
      },
      "source": [
        "cars.drop('other', axis=1, inplace=True)"
      ],
      "execution_count": 9,
      "outputs": []
    },
    {
      "cell_type": "code",
      "metadata": {
        "colab": {
          "base_uri": "https://localhost:8080/"
        },
        "id": "SQlBT7Iojpcf",
        "outputId": "6ec7efa4-cfb1-4b17-9db7-991503b13cd4"
      },
      "source": [
        "cars.shape"
      ],
      "execution_count": 10,
      "outputs": [
        {
          "output_type": "execute_result",
          "data": {
            "text/plain": [
              "(434542, 100)"
            ]
          },
          "metadata": {},
          "execution_count": 10
        }
      ]
    },
    {
      "cell_type": "code",
      "metadata": {
        "id": "35Fw4s9Hj52-"
      },
      "source": [
        "cars.to_csv('data/processed/used_cars.csv', index=None)"
      ],
      "execution_count": null,
      "outputs": []
    }
  ]
}